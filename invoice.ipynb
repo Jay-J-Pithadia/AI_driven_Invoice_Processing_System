{
 "cells": [
  {
   "attachments": {},
   "cell_type": "markdown",
   "metadata": {},
   "source": [
    "<h1 align=\"center\">AI-Driven Invoice Processing System.</h1>"
   ]
  },
  {
   "attachments": {},
   "cell_type": "markdown",
   "metadata": {},
   "source": [
    ">\n",
    "- Here i have used sample invoice example in image format https://developers.mindee.com/docs/invoice-ocr, but we can also take in pdf or word format.\n",
    ">"
   ]
  },
  {
   "cell_type": "code",
   "execution_count": 1,
   "metadata": {},
   "outputs": [
    {
     "name": "stdout",
     "output_type": "stream",
     "text": [
      "TT Turnpike\n",
      "Designs Co.\n",
      "\n",
      "BILLTO\n",
      "Jiro Doi\n",
      "1954 Bloor Street West\n",
      "Toronto, ON, M6P 3K9\n",
      "Canada\n",
      "\n",
      "j_doi@example.com\n",
      "416-555-1212\n",
      "\n",
      "Services\n",
      "\n",
      "Platinum web hosting package\n",
      "Down 35mb, Up 100mb\n",
      "\n",
      "2 page website design\n",
      "Includes basic wireframes, and responsive templates\n",
      "\n",
      "Mobile designs\n",
      "Includes responsive navigation\n",
      "\n",
      "INVOICE\n",
      "\n",
      "Turnpike Designs\n",
      "156 University Ave, Toronto\n",
      "ON, Canada , MSH 2H7\n",
      "\n",
      "416-555-1212\n",
      "\n",
      "Invoice Number: 14\n",
      "\n",
      "P.0./S.0. Number: AD29094\n",
      "Invoice Date: 2018-09-25\n",
      "Payment Due: Upon receipt\n",
      "\n",
      "Amount Due (USD): $2,608.20\n",
      "Quantity Price Amount\n",
      "1 $65.00 $65.00\n",
      "3 $2,100.00 $2,100.00\n",
      "1 $250.00 $250.00\n",
      "$2,145.00\n",
      "$193.20\n",
      "Total: $2,608.20\n",
      "\n",
      "Amount due (CAD): $2,608.20\n",
      "\n"
     ]
    }
   ],
   "source": [
    "import pytesseract\n",
    "# Extract text using OCR\n",
    "pytesseract.pytesseract.tesseract_cmd = 'C:/Program Files/Tesseract-OCR/tesseract.exe'\n",
    "text = pytesseract.image_to_string(\"sample_invoice.jpeg\")\n",
    "print(text)"
   ]
  },
  {
   "cell_type": "code",
   "execution_count": 2,
   "metadata": {},
   "outputs": [
    {
     "data": {
      "text/plain": [
       "True"
      ]
     },
     "execution_count": 2,
     "metadata": {},
     "output_type": "execute_result"
    }
   ],
   "source": [
    "import spacy\n",
    "import imghdr\n",
    "from PIL import Image\n",
    "\n",
    "# Validating Correct Invoice type.\n",
    "def is_invoice(document_path):  \n",
    "    # Check if uploaded document is an image\n",
    "    if imghdr.what(document_path) is None:\n",
    "        return \"Uploaded file is not an image. Please upload a valid image file.\"\n",
    "    \n",
    "    image = Image.open(document_path)\n",
    "\n",
    "    # Check if image is too small to be processed\n",
    "    if image.size[0] < 100 or image.size[1] < 100:\n",
    "        return \"Image is too small to be processed. Please upload a larger image.\"\n",
    "\n",
    "    # Extract text using OCR\n",
    "    pytesseract.pytesseract.tesseract_cmd = 'C:/Program Files/Tesseract-OCR/tesseract.exe'\n",
    "    text = pytesseract.image_to_string(document_path)\n",
    "\n",
    "    # Check if any text was extracted\n",
    "    if not text:\n",
    "        return \"OCR failed to extract any text from the document. Please upload a clear and readable image.\"\n",
    "    \n",
    "    # Load NLP model\n",
    "    nlp = spacy.load('en_core_web_sm')\n",
    "    doc = nlp(text)\n",
    "    \n",
    "    # Check if the document contains invoice-related entities\n",
    "    for entity in doc.ents:\n",
    "        if entity.label_ in ['ORG', 'PERSON', \"MONEY\"]:\n",
    "            return True\n",
    "    \n",
    "    return False\n",
    "\n",
    "\n",
    "is_inv = is_invoice(\"sample_invoice.jpeg\")\n",
    "is_inv"
   ]
  },
  {
   "attachments": {},
   "cell_type": "markdown",
   "metadata": {},
   "source": [
    "- Here, we have checked if our invoice document is in correct format or not.\n",
    ">\n",
    "- As it is giving us output True, means our document is in correct format, and we are ready to go on.\n",
    ">"
   ]
  },
  {
   "cell_type": "code",
   "execution_count": 3,
   "metadata": {},
   "outputs": [
    {
     "name": "stdout",
     "output_type": "stream",
     "text": [
      "Invoice Number: 14\n",
      "Invoice Date: 2018-09-25\n",
      "Total Amount Due: Amount Due (USD): $2,608.20\n"
     ]
    }
   ],
   "source": [
    "import re\n",
    "\n",
    "def extract_invoice_number(text):\n",
    "    # Use regular expressions to extract relevant fields from the text\n",
    "    invoice_number = re.search(r'Invoice Number:\\s*(\\w+)', text)\n",
    "    if invoice_number:\n",
    "        return invoice_number.group(1).strip()\n",
    "    else:\n",
    "        return \"Invoice number not found in the document. Please enter the invoice number manually.\"\n",
    "\n",
    "def extract_invoice_date(text):\n",
    "    # Change required in Date format, according to American or Indian standard date.\n",
    "    invoice_date = re.search(r'Invoice Date:\\s*(\\d{4}-\\d{2}-\\d{2})', text, re.IGNORECASE)\n",
    "    if invoice_date:\n",
    "        return invoice_date.group(1).strip()\n",
    "    else:\n",
    "        return \"Invoice Date not found in the document. Please enter the invoice date manually.\"\n",
    "    \n",
    "def extract_amount_due(text):\n",
    "    # We need to adjust amount, as here, i have hard coded the amount with \"$\" sign \n",
    "    amount_due = re.search(r\"Amount Due \\WUSD\\W:\\s\\$[\\d,]+\\.\\d{2}\", text)\n",
    "    if amount_due:\n",
    "        return amount_due[0]\n",
    "    else:\n",
    "        return \"Amount Due not found in the document. Please enter it manually.\"\n",
    "    \n",
    "text = pytesseract.image_to_string(\"sample_invoice.jpeg\")\n",
    "num = extract_invoice_number(text)\n",
    "date = extract_invoice_date(text)\n",
    "amt = extract_amount_due(text)\n",
    "\n",
    "print('Invoice Number:', num)\n",
    "print('Invoice Date:', date)\n",
    "print('Total Amount Due:', amt)"
   ]
  },
  {
   "attachments": {},
   "cell_type": "markdown",
   "metadata": {},
   "source": [
    "- After Validation of Invoice document, we have printed some basic information like invoice no., date and amount due."
   ]
  },
  {
   "cell_type": "code",
   "execution_count": 4,
   "metadata": {},
   "outputs": [
    {
     "data": {
      "text/plain": [
       "'Successfully Validated...'"
      ]
     },
     "execution_count": 4,
     "metadata": {},
     "output_type": "execute_result"
    }
   ],
   "source": [
    "# Sample = [1, 2, 3, 4, 5, 6, 7, 8, 9, 10]\n",
    "sample_invoice_database = range(1,11)\n",
    "\n",
    "# Validating Invoice Number\n",
    "def validate_invoice_number(invoice_number):\n",
    "    if not invoice_number:\n",
    "        return \"Please Enter Invoice Number.\"\n",
    "    \n",
    "    # Check if invoice number is in a valid format\n",
    "    if not re.match(r'^[A-Za-z0-9]+$', invoice_number):\n",
    "        return \"Not Valid format. Please enter valid Invoice Number.\"\n",
    "    \n",
    "    # Check if invoice number is unique\n",
    "    if int(invoice_number) in sample_invoice_database:\n",
    "        return \"Invoice number already exists in the system for a different vendor or customer.\\nPlease review and correct the information.\"\n",
    "    \n",
    "    return \"Successfully Validated...\"\n",
    "\n",
    "is_val = validate_invoice_number(num)\n",
    "is_val"
   ]
  },
  {
   "attachments": {},
   "cell_type": "markdown",
   "metadata": {},
   "source": [
    "- Here, as the edge case validation, i am checking if the invoice no. is already entered present in our sample database or not.\n",
    ">\n",
    "- For this example, our invoice no. is 14, which is not in our sample database(which is basically nos. from 1-10).\n",
    ">\n",
    "- We can check by entering different no. as well."
   ]
  },
  {
   "cell_type": "code",
   "execution_count": 5,
   "metadata": {},
   "outputs": [
    {
     "name": "stdout",
     "output_type": "stream",
     "text": [
      "Invoice number already exists in the system for a different vendor or customer.\n",
      "Please review and correct the information.\n"
     ]
    }
   ],
   "source": [
    "is_val = validate_invoice_number(\"7\")\n",
    "print(is_val)"
   ]
  },
  {
   "cell_type": "code",
   "execution_count": 6,
   "metadata": {},
   "outputs": [
    {
     "name": "stdout",
     "output_type": "stream",
     "text": [
      "Not Valid format. Please enter valid Invoice Number.\n"
     ]
    }
   ],
   "source": [
    "is_val = validate_invoice_number(\"@\")\n",
    "print(is_val)"
   ]
  },
  {
   "cell_type": "code",
   "execution_count": 7,
   "metadata": {},
   "outputs": [
    {
     "name": "stdout",
     "output_type": "stream",
     "text": [
      "Please Enter Invoice Number.\n"
     ]
    }
   ],
   "source": [
    "is_val = validate_invoice_number(\"\")\n",
    "print(is_val)"
   ]
  }
 ],
 "metadata": {
  "kernelspec": {
   "display_name": "Python 3",
   "language": "python",
   "name": "python3"
  },
  "language_info": {
   "codemirror_mode": {
    "name": "ipython",
    "version": 3
   },
   "file_extension": ".py",
   "mimetype": "text/x-python",
   "name": "python",
   "nbconvert_exporter": "python",
   "pygments_lexer": "ipython3",
   "version": "3.9.7"
  },
  "orig_nbformat": 4
 },
 "nbformat": 4,
 "nbformat_minor": 2
}
